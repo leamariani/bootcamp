{
 "cells": [
  {
   "cell_type": "code",
   "execution_count": 1,
   "id": "d7737618",
   "metadata": {},
   "outputs": [
    {
     "name": "stdout",
     "output_type": "stream",
     "text": [
      "8\n"
     ]
    }
   ],
   "source": [
    "#Exercise 1 : Add Two Numbers\n",
    "#Instructions\n",
    "#Write a function add_two_numbers that takes two numbers as parameters and returns their sum.\n",
    "\n",
    "#Example:\n",
    "\n",
    "#print(add_two_numbers(3, 5))  # Output: 8\n",
    "#print(add_two_numbers(10, 20))  # Output: 30\n",
    "\n",
    "def add_two_numbers(x,y):\n",
    "    return x+y\n",
    "print(add_two_numbers(3,5))"
   ]
  },
  {
   "cell_type": "code",
   "execution_count": 8,
   "id": "8fa5054c",
   "metadata": {},
   "outputs": [
    {
     "name": "stdout",
     "output_type": "stream",
     "text": [
      "Hello, Clara!\n"
     ]
    }
   ],
   "source": [
    "#Exercise 2 : Print a Greeting\n",
    "#Instructions\n",
    "#Write a function greet that takes one parameter, a person’s name, and prints a greeting message like “Hello, [name]!”.\n",
    "\n",
    "#Example:\n",
    "\n",
    "#greet(\"Alice\")  # Output: \"Hello, Alice!\"\n",
    "#greet(\"Bob\")    # Output: \"Hello, Bob!\"\n",
    "\n",
    "def greet(person_name):\n",
    "    return f\"Hello, {person_name}!\"\n",
    "print(greet (\"Clara\"))"
   ]
  },
  {
   "cell_type": "code",
   "execution_count": 10,
   "id": "832538ee",
   "metadata": {},
   "outputs": [
    {
     "name": "stdout",
     "output_type": "stream",
     "text": [
      "even\n",
      "odd\n"
     ]
    }
   ],
   "source": [
    "#Exercise 3 : Check if Number is Even or Odd\n",
    "#Instructions\n",
    "#Write a function check_even_odd that takes one number and prints “Even” if the number is even, and “Odd” if the number is odd.\n",
    "\n",
    "#Example:\n",
    "\n",
    "#check_even_odd(4)  # Output: \"Even\"\n",
    "#check_even_odd(7)  # Output: \"Odd\"\n",
    "\n",
    "def check_even_odd(number):\n",
    "    if number %2 == 0:\n",
    "        print(\"even\")\n",
    "\n",
    "    else:\n",
    "        print(\"odd\")\n",
    "\n",
    "check_even_odd(4)\n",
    "check_even_odd(7)"
   ]
  },
  {
   "cell_type": "code",
   "execution_count": null,
   "id": "84d9c41c",
   "metadata": {},
   "outputs": [
    {
     "name": "stdout",
     "output_type": "stream",
     "text": [
      "15\n"
     ]
    }
   ],
   "source": [
    "#🌟 Exercise 4 : Sum of Numbers in a List\n",
    "#Instructions\n",
    "#Write a function sum_list that takes a list of numbers as a parameter and returns the sum of all numbers in the list.\n",
    "\n",
    "#Example:\n",
    "\n",
    "#print(sum_list([1, 2, 3, 4]))  # Output: 10\n",
    "#print(sum_list([5, 5, 5]))  # Output: 15\n",
    "\n",
    "\n",
    "def sum_list(number):\n",
    "    return sum(number)\n",
    "print(sum_list([5,5,5]))\n",
    "\n"
   ]
  },
  {
   "cell_type": "code",
   "execution_count": 18,
   "id": "26a94dcb",
   "metadata": {},
   "outputs": [
    {
     "name": "stdout",
     "output_type": "stream",
     "text": [
      "Monday\n",
      "Tuesday\n",
      "Wednesday\n",
      "Thursday\n",
      "Friday\n",
      "Saturday\n"
     ]
    }
   ],
   "source": [
    "#Exercise 5 : Print Days of the Week\n",
    "#Instructions\n",
    "#Write a function print_days that prints the days of the week (Sunday, Monday, Tuesday, etc.) using a loop.\n",
    "\n",
    "\n",
    "def print_days():\n",
    "\n",
    "    days = [\"Monday\",\"Tuesday\",\"Wednesday\",\"Thursday\",\"Friday\",\"Saturday\"]\n",
    "\n",
    "    for i in days:\n",
    "        print(i)\n",
    "        \n",
    "print_days()"
   ]
  },
  {
   "cell_type": "code",
   "execution_count": 31,
   "id": "bd462e27",
   "metadata": {},
   "outputs": [
    {
     "name": "stdout",
     "output_type": "stream",
     "text": [
      "positive\n",
      "negative\n",
      "zero\n"
     ]
    }
   ],
   "source": [
    "#Exercise 6 : Check if Number is Positive, Negative, or Zero\n",
    "#Instructions\n",
    "#Write a function check_sign that takes a number and prints whether the number is positive, negative, or zero.\n",
    "\n",
    "def check_sign(number):\n",
    "    if number > 0:\n",
    "        print(\"positive\")\n",
    "    elif number < 0:\n",
    "        print(\"negative\")\n",
    "    else:\n",
    "        print(\"zero\")\n",
    "\n",
    "check_sign (10)\n",
    "check_sign (-5)\n",
    "check_sign (0)"
   ]
  },
  {
   "cell_type": "code",
   "execution_count": 37,
   "id": "bc4380ac",
   "metadata": {},
   "outputs": [
    {
     "name": "stdout",
     "output_type": "stream",
     "text": [
      "hello\n",
      "hello\n",
      "hello\n",
      "goodbye\n",
      "goodbye\n"
     ]
    }
   ],
   "source": [
    "#Exercise 7 : Repeat a Word\n",
    "#Instructions\n",
    "#Write a function repeat_word that takes a word and a number as parameters and prints the word that many times.\n",
    "\n",
    "def repeat_word(word,number):\n",
    "    for _ in range(number):\n",
    "        print(word)\n",
    "\n",
    "repeat_word(\"hello\",3)\n",
    "repeat_word(\"goodbye\",2)\n"
   ]
  },
  {
   "cell_type": "code",
   "execution_count": 47,
   "id": "c43d5e07",
   "metadata": {},
   "outputs": [
    {
     "name": "stdout",
     "output_type": "stream",
     "text": [
      "4\n",
      "20\n"
     ]
    }
   ],
   "source": [
    "#Exercise 1 : Return the Largest Number\n",
    "#Write a function find_largest that takes a list of numbers and returns the largest number in the list.\n",
    "\n",
    "def find_largest(numbers):\n",
    "    return max (numbers)\n",
    "\n",
    "print(find_largest([1,2,3,4]))\n",
    "print(find_largest([10,20,5]))"
   ]
  },
  {
   "cell_type": "code",
   "execution_count": 49,
   "id": "7c07e14c",
   "metadata": {},
   "outputs": [
    {
     "name": "stdout",
     "output_type": "stream",
     "text": [
      "4\n",
      "20\n"
     ]
    }
   ],
   "source": [
    "#Exercise 1 : Return the Largest Number\n",
    "#Write a function find_largest that takes a list of numbers and returns the largest number in the list.\n",
    "\n",
    "def find_largest(numbers):\n",
    "    largest = numbers [0]\n",
    "    for number in numbers:\n",
    "        if number > largest:\n",
    "            largest = number\n",
    "    return largest\n",
    "\n",
    "print(find_largest([1,2,3,4]))\n",
    "print(find_largest([10,20,5]))"
   ]
  },
  {
   "cell_type": "code",
   "execution_count": 53,
   "id": "ae60cde6",
   "metadata": {},
   "outputs": [
    {
     "name": "stdout",
     "output_type": "stream",
     "text": [
      "True\n",
      "False\n"
     ]
    }
   ],
   "source": [
    "#Exercise 2 : Check for Letter in Word\n",
    "#nstructions\n",
    "#Write a function check_letter that takes a word and a letter as parameters and checks if the letter is in the word. It should return True if the letter is found and False if not.\n",
    "\n",
    "def check_letter(word, letter):\n",
    "    return letter in word\n",
    "\n",
    "print(check_letter(\"apple\", \"a\"))\n",
    "print(check_letter(\"apple\", \"z\"))\n",
    "    "
   ]
  },
  {
   "cell_type": "code",
   "execution_count": 68,
   "id": "a9f52ace",
   "metadata": {},
   "outputs": [
    {
     "name": "stdout",
     "output_type": "stream",
     "text": [
      "1\n",
      "2\n",
      "3\n",
      "1\n",
      "2\n",
      "3\n",
      "4\n",
      "5\n"
     ]
    }
   ],
   "source": [
    "#Instructions\n",
    "#Write a function count_to_number that takes a number as a parameter and prints all numbers from 1 to that number.\n",
    "\n",
    "def count_to_number(x):\n",
    "    for i in range(1,x+1): #(start,stop)\n",
    "        print (i)\n",
    "\n",
    "count_to_number(3)\n",
    "count_to_number(5)"
   ]
  },
  {
   "cell_type": "code",
   "execution_count": null,
   "id": "61aab9c6",
   "metadata": {},
   "outputs": [],
   "source": []
  }
 ],
 "metadata": {
  "kernelspec": {
   "display_name": "Python 3",
   "language": "python",
   "name": "python3"
  },
  "language_info": {
   "codemirror_mode": {
    "name": "ipython",
    "version": 3
   },
   "file_extension": ".py",
   "mimetype": "text/x-python",
   "name": "python",
   "nbconvert_exporter": "python",
   "pygments_lexer": "ipython3",
   "version": "3.9.6"
  }
 },
 "nbformat": 4,
 "nbformat_minor": 5
}
