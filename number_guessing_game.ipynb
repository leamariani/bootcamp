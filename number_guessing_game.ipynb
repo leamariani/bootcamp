{
 "cells": [
  {
   "cell_type": "code",
   "execution_count": 1,
   "id": "bb1de20b",
   "metadata": {},
   "outputs": [],
   "source": [
    "import random"
   ]
  },
  {
   "cell_type": "code",
   "execution_count": 37,
   "id": "51dc5093",
   "metadata": {},
   "outputs": [
    {
     "ename": "IndentationError",
     "evalue": "unexpected indent (2509789679.py, line 15)",
     "output_type": "error",
     "traceback": [
      "\u001b[0;36m  Cell \u001b[0;32mIn[37], line 15\u001b[0;36m\u001b[0m\n\u001b[0;31m    print(f'the right number is {random_number}')\u001b[0m\n\u001b[0m    ^\u001b[0m\n\u001b[0;31mIndentationError\u001b[0m\u001b[0;31m:\u001b[0m unexpected indent\n"
     ]
    }
   ],
   "source": [
    "def number_guessing_game():\n",
    "    random_number = random.randint(1, 100)\n",
    "    max_attempts = 7\n",
    "    for i in random_number:\n",
    "        guess = int(input(\"Enter your guess\"))\n",
    "        print(guess)\n",
    "\n",
    "    if i > random_number:\n",
    "        print(\"Too high!\")\n",
    "    elif i < random_number:\n",
    "        print(\"Too low!\")\n",
    "    else:\n",
    "        print(\"You won!\")\n",
    "        break\n",
    "            print(f'the right number is {random_number}')\n",
    "break:\n",
    "    print(f'the right number is {random_number}')\n",
    "    print(number_guessing_game)\n",
    "\n",
    "\n"
   ]
  },
  {
   "cell_type": "code",
   "execution_count": 56,
   "id": "9ab767e3",
   "metadata": {},
   "outputs": [
    {
     "ename": "ValueError",
     "evalue": "invalid literal for int() with base 10: 'dfg'",
     "output_type": "error",
     "traceback": [
      "\u001b[0;31m---------------------------------------------------------------------------\u001b[0m",
      "\u001b[0;31mValueError\u001b[0m                                Traceback (most recent call last)",
      "Cell \u001b[0;32mIn[56], line 21\u001b[0m\n\u001b[1;32m     15\u001b[0m             \u001b[38;5;28mprint\u001b[39m(\u001b[38;5;124m\"\u001b[39m\u001b[38;5;124mYou won!\u001b[39m\u001b[38;5;124m\"\u001b[39m)\n\u001b[1;32m     17\u001b[0m         \u001b[38;5;66;03m#break:\u001b[39;00m\n\u001b[1;32m     18\u001b[0m     \u001b[38;5;66;03m#print(f'the right number is {random_number}')\u001b[39;00m\n\u001b[0;32m---> 21\u001b[0m \u001b[43mnumber_guessing_game\u001b[49m\u001b[43m(\u001b[49m\u001b[43m)\u001b[49m    \n",
      "Cell \u001b[0;32mIn[56], line 6\u001b[0m, in \u001b[0;36mnumber_guessing_game\u001b[0;34m()\u001b[0m\n\u001b[1;32m      3\u001b[0m attempts \u001b[38;5;241m=\u001b[39m \u001b[38;5;241m7\u001b[39m\n\u001b[1;32m      5\u001b[0m \u001b[38;5;28;01mfor\u001b[39;00m i \u001b[38;5;129;01min\u001b[39;00m \u001b[38;5;28mrange\u001b[39m(\u001b[38;5;241m1\u001b[39m,attempts \u001b[38;5;241m+\u001b[39m\u001b[38;5;241m1\u001b[39m):\n\u001b[0;32m----> 6\u001b[0m     guess \u001b[38;5;241m=\u001b[39m \u001b[38;5;28;43mint\u001b[39;49m\u001b[43m(\u001b[49m\u001b[38;5;28;43minput\u001b[39;49m\u001b[43m(\u001b[49m\u001b[38;5;124;43m\"\u001b[39;49m\u001b[38;5;124;43mEnter your guess\u001b[39;49m\u001b[38;5;124;43m\"\u001b[39;49m\u001b[43m)\u001b[49m\u001b[43m)\u001b[49m\n\u001b[1;32m      8\u001b[0m     \u001b[38;5;28;01mif\u001b[39;00m i \u001b[38;5;241m>\u001b[39m random_number:\n\u001b[1;32m      9\u001b[0m         \u001b[38;5;28mprint\u001b[39m(\u001b[38;5;124m\"\u001b[39m\u001b[38;5;124mToo high!\u001b[39m\u001b[38;5;124m\"\u001b[39m)\n",
      "\u001b[0;31mValueError\u001b[0m: invalid literal for int() with base 10: 'dfg'"
     ]
    }
   ],
   "source": [
    "def number_guessing_game():\n",
    "    random_number = random.randint(1, 100)\n",
    "    attempts = 7\n",
    "\n",
    "    for i in range(1,attempts +1):\n",
    "        guess = int(input(\"Enter your guess\"))\n",
    "\n",
    "        if i > random_number:\n",
    "            print(\"Too high!\")\n",
    "\n",
    "        elif i < random_number:\n",
    "            print(\"Too low!\")\n",
    "\n",
    "        else:\n",
    "            print(\"You won!\")\n",
    "\n",
    "        #break:\n",
    "    #print(f'the right number is {random_number}')\n",
    "\n",
    "\n",
    "number_guessing_game()    "
   ]
  },
  {
   "cell_type": "code",
   "execution_count": 60,
   "id": "b29c7cbd",
   "metadata": {},
   "outputs": [
    {
     "name": "stdout",
     "output_type": "stream",
     "text": [
      "Too low!\n",
      "Too low!\n",
      "Too low!\n",
      "Too high!\n",
      "Too high!\n",
      "Too low!\n",
      "Too low!\n",
      "the right number is 60\n"
     ]
    }
   ],
   "source": [
    "def number_guessing_game():\n",
    "    random_number = random.randint(1, 100)\n",
    "    attempts = 7\n",
    "\n",
    "    for i in range(1,attempts +1):\n",
    "        \n",
    "        i = int(input(\"Enter your guess\"))\n",
    "\n",
    "        if i > random_number:\n",
    "            print(\"Too high!\")\n",
    "\n",
    "        elif i < random_number:\n",
    "            print(\"Too low!\")\n",
    "\n",
    "        else:\n",
    "            print(\"You won!\")\n",
    "\n",
    "    else:\n",
    "        print(f'the right number is {random_number}')\n",
    "\n",
    "\n",
    "number_guessing_game()    "
   ]
  },
  {
   "cell_type": "code",
   "execution_count": null,
   "id": "dbf5aca9",
   "metadata": {},
   "outputs": [],
   "source": []
  },
  {
   "cell_type": "code",
   "execution_count": null,
   "id": "a085787e",
   "metadata": {},
   "outputs": [],
   "source": []
  }
 ],
 "metadata": {
  "kernelspec": {
   "display_name": "Python 3",
   "language": "python",
   "name": "python3"
  },
  "language_info": {
   "codemirror_mode": {
    "name": "ipython",
    "version": 3
   },
   "file_extension": ".py",
   "mimetype": "text/x-python",
   "name": "python",
   "nbconvert_exporter": "python",
   "pygments_lexer": "ipython3",
   "version": "3.9.6"
  }
 },
 "nbformat": 4,
 "nbformat_minor": 5
}
