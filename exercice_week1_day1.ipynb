{
 "cells": [
  {
   "cell_type": "code",
   "execution_count": 2,
   "id": "3648dfed",
   "metadata": {},
   "outputs": [],
   "source": [
    "#1 Declare a variable called first and assign it to the value \"Hello World\".\n",
    "first = \"hello world !\""
   ]
  },
  {
   "cell_type": "code",
   "execution_count": 4,
   "id": "80029e2f",
   "metadata": {},
   "outputs": [],
   "source": [
    "#2 Write a comment that says \"This is a comment.\"\n",
    "#This is a comment"
   ]
  },
  {
   "cell_type": "code",
   "execution_count": 8,
   "id": "b8e881a2",
   "metadata": {},
   "outputs": [
    {
     "name": "stdout",
     "output_type": "stream",
     "text": [
      "I AM A COMPUTER!\n"
     ]
    }
   ],
   "source": [
    "#3 Log a message to the terminal that says \"I AM A COMPUTER!\"\n",
    "terminal = \"I AM A COMPUTER!\"\n",
    "print (terminal)"
   ]
  },
  {
   "cell_type": "code",
   "execution_count": null,
   "id": "af5ec725",
   "metadata": {},
   "outputs": [
    {
     "name": "stdout",
     "output_type": "stream",
     "text": [
      "cMath is fun.\n"
     ]
    }
   ],
   "source": [
    "#4 Write an if statement that checks if 1 is less than 2 and if 4 is greater than 2. If it is, show the message \"Math is fun.\"\n",
    "if 1 < 2 and 4 > 2:\n",
    "    print(\"Math is fun.\")"
   ]
  },
  {
   "cell_type": "code",
   "execution_count": 12,
   "id": "067e5f92",
   "metadata": {},
   "outputs": [
    {
     "ename": "NameError",
     "evalue": "name 'nope' is not defined",
     "output_type": "error",
     "traceback": [
      "\u001b[0;31m---------------------------------------------------------------------------\u001b[0m",
      "\u001b[0;31mNameError\u001b[0m                                 Traceback (most recent call last)",
      "Cell \u001b[0;32mIn[12], line 2\u001b[0m\n\u001b[1;32m      1\u001b[0m \u001b[38;5;66;03m#5 Assign a variable called nope to an absence of value.\u001b[39;00m\n\u001b[0;32m----> 2\u001b[0m \u001b[38;5;28mprint\u001b[39m(\u001b[43mnope\u001b[49m(\u001b[38;5;241m2\u001b[39m))\n",
      "\u001b[0;31mNameError\u001b[0m: name 'nope' is not defined"
     ]
    }
   ],
   "source": [
    "#5 Assign a variable called nope to an absence of value.\n",
    "print(nope(2))"
   ]
  },
  {
   "cell_type": "code",
   "execution_count": 13,
   "id": "ae10072f",
   "metadata": {},
   "outputs": [
    {
     "name": "stdout",
     "output_type": "stream",
     "text": [
      "True\n",
      "False\n"
     ]
    }
   ],
   "source": [
    "#6 Use the language’s “and” boolean operator to combine the language’s “true” value with its “false” value.\n",
    "print(bool(2))  \n",
    "print(2 == True)"
   ]
  },
  {
   "cell_type": "code",
   "execution_count": 15,
   "id": "7a6257c3",
   "metadata": {},
   "outputs": [
    {
     "name": "stdout",
     "output_type": "stream",
     "text": [
      "Length of the string: 17\n"
     ]
    }
   ],
   "source": [
    "#7 Calculate the length of the string \"What's my length?\"\n",
    "# Define the string\n",
    "text = \"What's my length?\"\n",
    "\n",
    "# Calculate the length\n",
    "length = len(text)\n",
    "\n",
    "# Print the result\n",
    "print(\"Length of the string:\", length)"
   ]
  },
  {
   "cell_type": "code",
   "execution_count": 16,
   "id": "2ae23ad4",
   "metadata": {},
   "outputs": [
    {
     "name": "stdout",
     "output_type": "stream",
     "text": [
      "I AM SHOUTING\n"
     ]
    }
   ],
   "source": [
    "#8 Convert the string \"i am shouting\" to uppercase.\n",
    "# Define the string\n",
    "text = \"i am shouting\"\n",
    "\n",
    "# Convert to uppercase\n",
    "upper_text = text.upper()\n",
    "\n",
    "# Print the result\n",
    "print(upper_text)"
   ]
  },
  {
   "cell_type": "code",
   "execution_count": 17,
   "id": "dcc2e24c",
   "metadata": {},
   "outputs": [
    {
     "name": "stdout",
     "output_type": "stream",
     "text": [
      "1000\n"
     ]
    }
   ],
   "source": [
    "#9 Convert the string \"1000\"to the number 1000.\n",
    "# Define the string\n",
    "text = \"1000\"\n",
    "\n",
    "# Convert to integer\n",
    "number = int(text)\n",
    "\n",
    "# Print the result\n",
    "print(number)"
   ]
  },
  {
   "cell_type": "code",
   "execution_count": 18,
   "id": "7b0e7442",
   "metadata": {},
   "outputs": [
    {
     "name": "stdout",
     "output_type": "stream",
     "text": [
      "4real\n"
     ]
    }
   ],
   "source": [
    "#10 Combine the number 4 with the string \"real\" to produce \"4real\".\n",
    "# Define the number and string\n",
    "num = 4\n",
    "text = \"real\"\n",
    "\n",
    "# Combine them\n",
    "combined = str(num) + text\n",
    "\n",
    "# Print the result\n",
    "print(combined)\n"
   ]
  },
  {
   "cell_type": "code",
   "execution_count": 19,
   "id": "9a87b51b",
   "metadata": {},
   "outputs": [
    {
     "name": "stdout",
     "output_type": "stream",
     "text": [
      "coolcoolcool\n"
     ]
    }
   ],
   "source": [
    "#11 Record the output of the expression 3 * \"cool\".\n",
    "# Expression\n",
    "result = 3 * \"cool\"\n",
    "\n",
    "# Print the result\n",
    "print(result)"
   ]
  },
  {
   "cell_type": "code",
   "execution_count": 20,
   "id": "2b10ed73",
   "metadata": {},
   "outputs": [
    {
     "ename": "ZeroDivisionError",
     "evalue": "division by zero",
     "output_type": "error",
     "traceback": [
      "\u001b[0;31m---------------------------------------------------------------------------\u001b[0m",
      "\u001b[0;31mZeroDivisionError\u001b[0m                         Traceback (most recent call last)",
      "Cell \u001b[0;32mIn[20], line 3\u001b[0m\n\u001b[1;32m      1\u001b[0m \u001b[38;5;66;03m#12 Record the output of the expression 1 / 0.\u001b[39;00m\n\u001b[1;32m      2\u001b[0m \u001b[38;5;66;03m# Expression\u001b[39;00m\n\u001b[0;32m----> 3\u001b[0m result \u001b[38;5;241m=\u001b[39m \u001b[38;5;241;43m1\u001b[39;49m\u001b[43m \u001b[49m\u001b[38;5;241;43m/\u001b[39;49m\u001b[43m \u001b[49m\u001b[38;5;241;43m0\u001b[39;49m\n",
      "\u001b[0;31mZeroDivisionError\u001b[0m: division by zero"
     ]
    }
   ],
   "source": [
    "#12 Record the output of the expression 1 / 0.\n",
    "# Expression\n",
    "result = 1 / 0"
   ]
  },
  {
   "cell_type": "code",
   "execution_count": 21,
   "id": "9b3a57ee",
   "metadata": {},
   "outputs": [
    {
     "name": "stdout",
     "output_type": "stream",
     "text": [
      "<class 'list'>\n"
     ]
    }
   ],
   "source": [
    "#13 Determine the type of [].\n",
    "# Determine the type\n",
    "print(type([]))"
   ]
  },
  {
   "cell_type": "code",
   "execution_count": 22,
   "id": "881af262",
   "metadata": {},
   "outputs": [
    {
     "name": "stdout",
     "output_type": "stream",
     "text": [
      "Hello, Bob\n"
     ]
    }
   ],
   "source": [
    "#14 Ask the user for their name, and store it in a variable called name.\n",
    "# Ask for the user's name\n",
    "name = input(\"What is your name? \")\n",
    "\n",
    "# Optional: Print the name to confirm\n",
    "print(\"Hello,\", name)"
   ]
  },
  {
   "cell_type": "code",
   "execution_count": 23,
   "id": "44caf65d",
   "metadata": {},
   "outputs": [
    {
     "name": "stdout",
     "output_type": "stream",
     "text": [
      "That number is greater than 0!\n"
     ]
    }
   ],
   "source": [
    "#15 Ask the user for a number. If the number is negative, show a message that says \"That number is less than 0!\" If the number is positive, show a message that says \"That number is greater than 0!\" Otherwise, show a message that says \"You picked 0!.\n",
    "# Ask the user for a number\n",
    "num = float(input(\"Enter a number: \"))\n",
    "\n",
    "# Check the number and display the appropriate message\n",
    "if num < 0:\n",
    "    print(\"That number is less than 0!\")\n",
    "elif num > 0:\n",
    "    print(\"That number is greater than 0!\")\n",
    "else:\n",
    "    print(\"You picked 0!\")\n"
   ]
  },
  {
   "cell_type": "code",
   "execution_count": 25,
   "id": "e1732bac",
   "metadata": {},
   "outputs": [
    {
     "name": "stdout",
     "output_type": "stream",
     "text": [
      "3\n"
     ]
    }
   ],
   "source": [
    "#16 Find the index of \"l\" in \"apple\".\n",
    "# Define the string\n",
    "word = \"apple\"\n",
    "\n",
    "# Find the index of 'l'\n",
    "index = word.index(\"l\")\n",
    "\n",
    "# Print the result\n",
    "print(index)"
   ]
  },
  {
   "cell_type": "code",
   "execution_count": 27,
   "id": "f50a9672",
   "metadata": {},
   "outputs": [
    {
     "name": "stdout",
     "output_type": "stream",
     "text": [
      "Yes, 'y' is in 'xylophone'.\n"
     ]
    }
   ],
   "source": [
    "#17 Check whether \"y\" is in \"xylophone\".\n",
    "# Define the string\n",
    "word = \"xylophone\"\n",
    "\n",
    "# Check if 'y' is in the string\n",
    "if \"y\" in word:\n",
    "    print(\"Yes, 'y' is in 'xylophone'.\")\n",
    "else:\n",
    "    print(\"No, 'y' is not in 'xylophone'.\")\n"
   ]
  },
  {
   "cell_type": "code",
   "execution_count": 28,
   "id": "7f52d67f",
   "metadata": {},
   "outputs": [
    {
     "name": "stdout",
     "output_type": "stream",
     "text": [
      "The string is all lowercase.\n"
     ]
    }
   ],
   "source": [
    "#18 Check whether a string called my_string is all in lowercase.\n",
    "# Example string\n",
    "my_string = \"hello world\"\n",
    "\n",
    "# Check if all characters are lowercase\n",
    "if my_string.islower():\n",
    "    print(\"The string is all lowercase.\")\n",
    "else:\n",
    "    print(\"The string is not all lowercase.\")\n"
   ]
  },
  {
   "cell_type": "code",
   "execution_count": 30,
   "id": "f5d861be",
   "metadata": {},
   "outputs": [
    {
     "name": "stdout",
     "output_type": "stream",
     "text": [
      "[10, 56, 64]\n"
     ]
    }
   ],
   "source": [
    "#EXERCICE 2\n",
    "\n",
    "# Ask for number of human years\n",
    "# Ask for number of human years\n",
    "humanYears = int(input(\"Enter the number of human years: \"))\n",
    "\n",
    "# Calculate cat years\n",
    "if humanYears == 1:\n",
    "    catYears = 15\n",
    "elif humanYears == 2:\n",
    "    catYears = 15 + 9\n",
    "else:\n",
    "    catYears = 15 + 9 + (humanYears - 2) * 4\n",
    "\n",
    "# Calculate dog years\n",
    "if humanYears == 1:\n",
    "    dogYears = 15\n",
    "elif humanYears == 2:\n",
    "    dogYears = 15 + 9\n",
    "else:\n",
    "    dogYears = 15 + 9 + (humanYears - 2) * 5\n",
    "\n",
    "# Print the result\n",
    "print([humanYears, catYears, dogYears])"
   ]
  },
  {
   "cell_type": "code",
   "execution_count": 31,
   "id": "8474c555",
   "metadata": {},
   "outputs": [
    {
     "name": "stdout",
     "output_type": "stream",
     "text": [
      "[1, 15, 15]\n"
     ]
    }
   ],
   "source": [
    "# Ask for number of human years\n",
    "humanYears = int(input(\"Enter the number of human years: \"))\n",
    "\n",
    "# Calculate cat years\n",
    "if humanYears == 1:\n",
    "    catYears = 15\n",
    "elif humanYears == 2:\n",
    "    catYears = 15 + 9\n",
    "else:\n",
    "    catYears = 15 + 9 + (humanYears - 2) * 4\n",
    "\n",
    "# Calculate dog years\n",
    "if humanYears == 1:\n",
    "    dogYears = 15\n",
    "elif humanYears == 2:\n",
    "    dogYears = 15 + 9\n",
    "else:\n",
    "    dogYears = 15 + 9 + (humanYears - 2) * 5\n",
    "\n",
    "# Print the result\n",
    "print([humanYears, catYears, dogYears])"
   ]
  },
  {
   "cell_type": "code",
   "execution_count": 32,
   "id": "a6850a51",
   "metadata": {},
   "outputs": [
    {
     "name": "stdout",
     "output_type": "stream",
     "text": [
      "[2, 24, 24]\n"
     ]
    }
   ],
   "source": [
    "# Ask for number of human years\n",
    "humanYears = int(input(\"Enter the number of human years: \"))\n",
    "\n",
    "# Calculate cat years\n",
    "if humanYears == 1:\n",
    "    catYears = 15\n",
    "elif humanYears == 2:\n",
    "    catYears = 15 + 9\n",
    "else:\n",
    "    catYears = 15 + 9 + (humanYears - 2) * 4\n",
    "\n",
    "# Calculate dog years\n",
    "if humanYears == 1:\n",
    "    dogYears = 15\n",
    "elif humanYears == 2:\n",
    "    dogYears = 15 + 9\n",
    "else:\n",
    "    dogYears = 15 + 9 + (humanYears - 2) * 5\n",
    "\n",
    "# Print the result\n",
    "print([humanYears, catYears, dogYears])"
   ]
  },
  {
   "cell_type": "code",
   "execution_count": null,
   "id": "8f09b022",
   "metadata": {},
   "outputs": [],
   "source": []
  }
 ],
 "metadata": {
  "kernelspec": {
   "display_name": "Python 3",
   "language": "python",
   "name": "python3"
  },
  "language_info": {
   "codemirror_mode": {
    "name": "ipython",
    "version": 3
   },
   "file_extension": ".py",
   "mimetype": "text/x-python",
   "name": "python",
   "nbconvert_exporter": "python",
   "pygments_lexer": "ipython3",
   "version": "3.9.6"
  }
 },
 "nbformat": 4,
 "nbformat_minor": 5
}
