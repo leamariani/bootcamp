{
 "cells": [
  {
   "cell_type": "code",
   "execution_count": 8,
   "id": "638ceb68",
   "metadata": {},
   "outputs": [
    {
     "name": "stdout",
     "output_type": "stream",
     "text": [
      "1\n",
      "2\n",
      "3\n",
      "4\n"
     ]
    }
   ],
   "source": [
    "#Write Python code to complete the following tasks.\n",
    "\n",
    "#Given a list [1, 2, 3, 4], print out all the values in the list one by one.\n",
    "list = [1,2,3,4]\n",
    "\n",
    "for each in list:\n",
    "    print(each)"
   ]
  },
  {
   "cell_type": "code",
   "execution_count": 9,
   "id": "a37bc2d0",
   "metadata": {},
   "outputs": [
    {
     "name": "stdout",
     "output_type": "stream",
     "text": [
      "20\n",
      "40\n",
      "60\n",
      "80\n"
     ]
    }
   ],
   "source": [
    "#2 Given a list [1, 2, 3, 4], print out all the values in the list multiplied by 20.\n",
    "for each in list:\n",
    "    print(each*20)"
   ]
  },
  {
   "cell_type": "code",
   "execution_count": null,
   "id": "37fb4d69",
   "metadata": {},
   "outputs": [
    {
     "name": "stdout",
     "output_type": "stream",
     "text": [
      "['E', 'T', 'M']\n"
     ]
    }
   ],
   "source": [
    "#3 Given a list [\"Elie\", \"Tim\", \"Matt\"], return a new list with only the first letter of each name: [\"E\", \"T\", \"M\"].\n",
    "list = [\"Elie\", \"Tim\", \"Matt\"]\n",
    "list3 = []\n",
    "for name in list:\n",
    "    list3.append(name[0])\n",
    "print(list3)"
   ]
  },
  {
   "cell_type": "code",
   "execution_count": null,
   "id": "080d761e",
   "metadata": {},
   "outputs": [
    {
     "name": "stdout",
     "output_type": "stream",
     "text": [
      "[2, 4, 6]\n"
     ]
    }
   ],
   "source": [
    "#4 Given a list [1, 2, 3, 4, 5, 6], return a new list with all the even values: [2, 4, 6].\n",
    "list4 = [1, 2, 3, 4, 5, 6]\n",
    "list5 = []\n",
    "for each in list4:\n",
    "    if each %2 == 0:\n",
    "        list5.append(each)\n",
    "print(list5)\n"
   ]
  },
  {
   "cell_type": "code",
   "execution_count": null,
   "id": "15d877a8",
   "metadata": {},
   "outputs": [
    {
     "name": "stdout",
     "output_type": "stream",
     "text": [
      "[3, 4]\n"
     ]
    }
   ],
   "source": [
    "#5 Given two lists [1, 2, 3, 4] and [3, 4, 5, 6], return a new list that contains only the values present in both lists: [3, 4].\n",
    "list6 = [1,2,3,4]\n",
    "list7 = [3,4,5,6]\n",
    "list8 =[]\n",
    "\n",
    "for each in list6:\n",
    "    if each in list7:\n",
    "        list8.append(each) \n",
    "print(list8)\n"
   ]
  },
  {
   "cell_type": "code",
   "execution_count": null,
   "id": "3dae1a3b",
   "metadata": {},
   "outputs": [
    {
     "name": "stdout",
     "output_type": "stream",
     "text": [
      "eilE\n",
      "lowercase Elie\n",
      "miT\n",
      "lowercase Tim\n",
      "ttaM\n",
      "lowercase Matt\n"
     ]
    },
    {
     "data": {
      "text/plain": [
       "['eile', 'mit', 'ttam']"
      ]
     },
     "execution_count": 62,
     "metadata": {},
     "output_type": "execute_result"
    }
   ],
   "source": [
    "#6 Given a list of words [\"Elie\", \"Tim\", \"Matt\"], return a new list with each word reversed and in lowercase: [\"eile\", \"mit\", \"ttam\"].\n",
    "list = [\"Elie\", \"Tim\", \"Matt\"]\n",
    "list9 =[]\n",
    "\n",
    "for each in list:\n",
    "    print(each[::-1])\n",
    "    print(\"lowercase\",(each))\n",
    "    \n",
    "\n",
    "\n",
    "\n",
    "\n",
    "\n",
    "\n",
    "\n",
    "    Name = [\"Elie\", \"Tim\", \"Matt\"]\n",
    "Name2 = []\n",
    "for word in Name:\n",
    "    # Convert to lowercase and reverse the word\n",
    "    lower_word = word.lower()\n",
    "    reversed_word = lower_word[::-1]\n",
    "    Name2.append(reversed_word)\n",
    "Name2  # This will output: ['eile', 'mit', 'ttam']"
   ]
  },
  {
   "cell_type": "code",
   "execution_count": 59,
   "id": "a6f84c68",
   "metadata": {},
   "outputs": [
    {
     "name": "stdout",
     "output_type": "stream",
     "text": [
      "['i', 'r', 't']\n"
     ]
    }
   ],
   "source": [
    "#7 Given two strings \"first\" and \"third\", return a new list of the letters that are present in both strings: [\"i\", \"r\", \"t\"].\n",
    "\n",
    "x = \"first\"\n",
    "y = \"third\"\n",
    "list10 = []\n",
    "\n",
    "for each in x:\n",
    "    if each in y:\n",
    "        list10.append(each)\n",
    "print(list10)"
   ]
  },
  {
   "cell_type": "code",
   "execution_count": 66,
   "id": "b6ed8a1b",
   "metadata": {},
   "outputs": [
    {
     "name": "stdout",
     "output_type": "stream",
     "text": [
      "[12, 24, 36, 48, 60, 72, 84, 96]\n"
     ]
    }
   ],
   "source": [
    "#8 For all numbers between 1 and 100, return a list of the numbers that are divisible by 12: [12, 24, 36, 48, 60, 72, 84, 96].\n",
    "\n",
    "lis1 = []\n",
    "for i in range(1, 100) :\n",
    "    if i % 12 == 0 :\n",
    "        lis1.append(i)\n",
    "print(lis1)"
   ]
  },
  {
   "cell_type": "code",
   "execution_count": 67,
   "id": "b9933547",
   "metadata": {},
   "outputs": [
    {
     "data": {
      "text/plain": [
       "['m', 'z', 'n', 'g']"
      ]
     },
     "execution_count": 67,
     "metadata": {},
     "output_type": "execute_result"
    }
   ],
   "source": [
    "#9 Given the string \"amazing\", return a list with all the vowels removed: [\"m\", \"z\", \"n\", \"g\"].\n",
    "a =\"amazing\"\n",
    "list = [i for i in a if i not in \"aeoui\"]\n",
    "list"
   ]
  },
  {
   "cell_type": "code",
   "execution_count": 63,
   "id": "6925ec94",
   "metadata": {},
   "outputs": [],
   "source": [
    "#10 Generate a list with the following value: [[0, 1, 2], [0, 1, 2], [0, 1, 2]].\n"
   ]
  },
  {
   "cell_type": "code",
   "execution_count": 64,
   "id": "7fd6a080",
   "metadata": {},
   "outputs": [],
   "source": [
    "#11 Generate a list with the following structure:\n",
    "\n"
   ]
  },
  {
   "cell_type": "code",
   "execution_count": 68,
   "id": "541f6d35",
   "metadata": {},
   "outputs": [
    {
     "name": "stdout",
     "output_type": "stream",
     "text": [
      "{'name': 'Elie', 'job': 'Instructor'}\n"
     ]
    }
   ],
   "source": [
    "#EXERCICE 2\n",
    "\n",
    "#Given a list: [(\"name\", \"Elie\"), (\"job\", \"Instructor\")], create a dictionary that looks like this: {'job': 'Instructor', 'name': 'Elie'} (Note: The order does not matter).\n",
    "liste = [(\"name\", \"Elie\"), (\"job\", \"Instructor\")]\n",
    "dictionnaire = dict(liste)\n",
    "print(dictionnaire)"
   ]
  },
  {
   "cell_type": "code",
   "execution_count": 69,
   "id": "66fc7602",
   "metadata": {},
   "outputs": [
    {
     "name": "stdout",
     "output_type": "stream",
     "text": [
      "{'CA': 'California', 'NJ': 'New Jersey', 'RI': 'Rhode Island'}\n"
     ]
    }
   ],
   "source": [
    "#Given two lists: [\"CA\", \"NJ\", \"RI\"] and [\"California\", \"New Jersey\", \"Rhode Island\"], return a dictionary that looks like this: {'CA': 'California', 'NJ': 'New Jersey', 'RI': 'Rhode Island'}.\n",
    "\n",
    "keys = [\"CA\", \"NJ\", \"RI\"]\n",
    "values = [\"California\", \"New Jersey\", \"Rhode Island\"]\n",
    "result = {}\n",
    "for i in range(len(keys)):\n",
    "    result[keys[i]] = values[i]\n",
    "print(result)"
   ]
  },
  {
   "cell_type": "code",
   "execution_count": 70,
   "id": "59389fb9",
   "metadata": {},
   "outputs": [
    {
     "name": "stdout",
     "output_type": "stream",
     "text": [
      "{'CA': 'California', 'NJ': 'New Jersey', 'RI': 'Rhode Island'}\n"
     ]
    }
   ],
   "source": [
    "listAcronyme = [\"CA\", \"NJ\", \"RI\"]\n",
    "listStatename = [\"California\", \"New Jersey\", \"Rhode Island\"]\n",
    "dictAcroState = dict(zip(listAcronyme, listStatename))\n",
    "print(dictAcroState)"
   ]
  },
  {
   "cell_type": "code",
   "execution_count": null,
   "id": "48ddaf8f",
   "metadata": {},
   "outputs": [],
   "source": [
    "#3 3. Create a dictionary where the keys are vowels in the alphabet and the values are 0. Your dictionary should look like this: {'a': 0, 'e': 0, 'i': 0, 'o': 0, 'u': 0}. (Do not use the fromkeys method).\n"
   ]
  },
  {
   "cell_type": "code",
   "execution_count": null,
   "id": "841ce984",
   "metadata": {},
   "outputs": [],
   "source": [
    "#4 Create a dictionary where the key is the position of the letter in the alphabet, and the value is the letter itself. You should return something like this:\n",
    "\n"
   ]
  },
  {
   "cell_type": "code",
   "execution_count": 71,
   "id": "2844c029",
   "metadata": {},
   "outputs": [],
   "source": [
    "#Given the string \"awesome sauce\", return a dictionary where the keys are vowels, and the values are the count of each vowel in the string. Your dictionary should look like this: {'a': 2, 'e': 3, 'i': 0, 'o': 1, 'u': 1}."
   ]
  },
  {
   "cell_type": "code",
   "execution_count": null,
   "id": "d63a6479",
   "metadata": {},
   "outputs": [],
   "source": []
  }
 ],
 "metadata": {
  "kernelspec": {
   "display_name": "Python 3",
   "language": "python",
   "name": "python3"
  },
  "language_info": {
   "codemirror_mode": {
    "name": "ipython",
    "version": 3
   },
   "file_extension": ".py",
   "mimetype": "text/x-python",
   "name": "python",
   "nbconvert_exporter": "python",
   "pygments_lexer": "ipython3",
   "version": "3.9.6"
  }
 },
 "nbformat": 4,
 "nbformat_minor": 5
}
